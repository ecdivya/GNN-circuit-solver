{
 "cells": [
  {
   "cell_type": "markdown",
   "id": "63378010-3c25-43be-9f2d-9215d89df639",
   "metadata": {},
   "source": [
    "# Node 0 ---[ R = 100Ω, V = 10V ]--- Node 1 ---[ R = 200Ω ]--- Node 2"
   ]
  },
  {
   "cell_type": "markdown",
   "id": "80717618-3813-413f-b116-d96551cad05c",
   "metadata": {},
   "source": [
    "import torch\n",
    "from torch_geometric.data import Data\n",
    "\n",
    "# 3 nodes: node 0 (ground), node 1, node 2\n",
    "# 2 resistors and a voltage source between nodes\n",
    "\n",
    "# Edge index [2, num_edges]\n",
    "edge_index = torch.tensor([\n",
    "    [0, 1, 1],\n",
    "    [1, 0, 2]  # undirected or bidirectional\n",
    "], dtype=torch.long)\n",
    "\n",
    "# Edge features: resistance (Ohms), voltage (V)\n",
    "# Let's say: R01 = 100Ω, R12 = 200Ω, V01 = 10V (voltage source from 0 to 1)\n",
    "edge_attr = torch.tensor([\n",
    "    [100.0, 10.0],   # edge from 0 to 1\n",
    "    [100.0, -10.0],  # edge from 1 to 0\n",
    "    [200.0, 0.0]     # edge from 1 to 2 (just a resistor)\n",
    "], dtype=torch.float)\n",
    "\n",
    "# Node features (optional, like initial voltage guesses)\n",
    "x = torch.zeros((3, 1))  # 3 nodes, 1 feature each (voltage guess)\n",
    "\n",
    "data = Data(x=x, edge_index=edge_index, edge_attr=edge_attr)"
   ]
  },
  {
   "cell_type": "code",
   "execution_count": null,
   "id": "58a4a5f1-d7af-4f88-b38c-ce9050ac82a3",
   "metadata": {},
   "outputs": [],
   "source": []
  },
  {
   "cell_type": "code",
   "execution_count": 3,
   "id": "97d88e21-75e4-40f6-a054-f23e08c0e9c9",
   "metadata": {},
   "outputs": [],
   "source": [
    "from torch_geometric.nn import MessagePassing\n",
    "from torch.nn import Linear\n",
    "\n",
    "class CircuitGNN(MessagePassing):\n",
    "    def __init__(self):\n",
    "        super().__init__(aggr='add')  # sum incoming currents\n",
    "        self.linear = Linear(2, 1)  # process edge attributes\n",
    "\n",
    "    def forward(self, x, edge_index, edge_attr):\n",
    "        return self.propagate(edge_index, x=x, edge_attr=edge_attr)\n",
    "\n",
    "    def message(self, x_i, x_j, edge_attr):\n",
    "        resistance, voltage = edge_attr[:, 0:1], edge_attr[:, 1:2]\n",
    "        \n",
    "        # Ohm's Law: I = (V_j - V_i + V_source) / R\n",
    "        current = (x_j - x_i + voltage) / resistance\n",
    "        \n",
    "        return current  # interpreted as net current contribution\n",
    "\n",
    "    def update(self, aggr_out, x):\n",
    "        # Simple model: voltage update proportional to incoming current\n",
    "        return x + 0.1 * aggr_out  # small step, like gradient descent"
   ]
  },
  {
   "cell_type": "code",
   "execution_count": 4,
   "id": "9f976b01-8376-49dc-8c94-69fe96d98cee",
   "metadata": {},
   "outputs": [
    {
     "name": "stdout",
     "output_type": "stream",
     "text": [
      "Epoch 0, Loss: 52.0167\n",
      "Epoch 20, Loss: 49.7157\n",
      "Epoch 40, Loss: 47.4832\n",
      "Epoch 60, Loss: 45.3256\n",
      "Epoch 80, Loss: 43.2435\n",
      "Epoch 100, Loss: 41.2358\n",
      "Epoch 120, Loss: 39.3007\n",
      "Epoch 140, Loss: 37.4367\n",
      "Epoch 160, Loss: 35.6419\n",
      "Epoch 180, Loss: 33.9148\n"
     ]
    }
   ],
   "source": [
    "model = CircuitGNN()\n",
    "\n",
    "x = data.x.clone().requires_grad_(True)\n",
    "optimizer = torch.optim.Adam([x], lr=0.01)\n",
    "\n",
    "# Suppose we want to match known voltages at nodes (e.g., node 0 = 0V, node 1 = 10V)\n",
    "target = torch.tensor([[0.0], [10.0], [7.5]])  # target voltages (example)\n",
    "mask = torch.tensor([1.0, 1.0, 1.0]).unsqueeze(-1)\n",
    "\n",
    "for epoch in range(200):\n",
    "    optimizer.zero_grad()\n",
    "    out = model(x, data.edge_index, data.edge_attr)\n",
    "    loss = ((out - target) ** 2 * mask).mean()\n",
    "    loss.backward()\n",
    "    optimizer.step()\n",
    "\n",
    "    if epoch % 20 == 0:\n",
    "        print(f'Epoch {epoch}, Loss: {loss.item():.4f}')\n"
   ]
  },
  {
   "cell_type": "code",
   "execution_count": null,
   "id": "01892907-a947-4d57-b0a7-f44e35c097ee",
   "metadata": {},
   "outputs": [],
   "source": []
  }
 ],
 "metadata": {
  "kernelspec": {
   "display_name": "Python 3 (ipykernel)",
   "language": "python",
   "name": "python3"
  },
  "language_info": {
   "codemirror_mode": {
    "name": "ipython",
    "version": 3
   },
   "file_extension": ".py",
   "mimetype": "text/x-python",
   "name": "python",
   "nbconvert_exporter": "python",
   "pygments_lexer": "ipython3",
   "version": "3.9.6"
  }
 },
 "nbformat": 4,
 "nbformat_minor": 5
}
